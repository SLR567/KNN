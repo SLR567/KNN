{
 "cells": [
  {
   "cell_type": "code",
   "execution_count": 1,
   "id": "97e2a60d-d797-45cb-9979-73397949b0ea",
   "metadata": {},
   "outputs": [],
   "source": [
    "import json\n",
    "import re"
   ]
  },
  {
   "cell_type": "code",
   "execution_count": 2,
   "id": "398ea362-7296-4bfa-b5dc-92237994bf22",
   "metadata": {},
   "outputs": [],
   "source": [
    "file1_data = []"
   ]
  },
  {
   "cell_type": "code",
   "execution_count": 3,
   "id": "e9bc8d44-516e-42b3-b3bb-5de63331233d",
   "metadata": {},
   "outputs": [],
   "source": [
    "with open('data.jsonl', 'r', encoding='utf-8') as f:\n",
    "    for line in f:\n",
    "        json_obj = json.loads(line)\n",
    "        file1_data.append(json_obj)"
   ]
  },
  {
   "cell_type": "code",
   "execution_count": 4,
   "id": "933a5db2-e04e-4ed7-a934-c89a2f45983c",
   "metadata": {},
   "outputs": [],
   "source": [
    "file2_data = []"
   ]
  },
  {
   "cell_type": "code",
   "execution_count": 5,
   "id": "7a400cd7-4bed-40af-8c31-b97864de3e27",
   "metadata": {},
   "outputs": [],
   "source": [
    "for idx, data in enumerate(file1_data):\n",
    "    # 判断是否为\"尚无定论\"\n",
    "\n",
    "    file2_entry = {\n",
    "        \"id\": idx,\n",
    "        \"image\": data[\"image_path\"],\n",
    "        \"conversations\": \n",
    "        [\n",
    "            {\"from\": \"human\",\n",
    "             \"value\": \"<image>\"+data[\"question\"]+\" And please write the reasoning process.\"\n",
    "            },\n",
    "            {\"from\": \"gpt\",\n",
    "             \"value\":data[\"cot\"]\n",
    "            },\n",
    "        ]\n",
    "      }\n",
    "    \n",
    "    \n",
    "    #print(file2_entry)\n",
    "    file2_data.append(file2_entry)"
   ]
  },
  {
   "cell_type": "code",
   "execution_count": 6,
   "id": "39cb4540-17b3-4a55-a318-6f2ec7744099",
   "metadata": {},
   "outputs": [],
   "source": [
    "with open('data_cot_prompt.jsonl', 'w', encoding='utf-8') as f:\n",
    "    json.dump(file2_data, f, ensure_ascii=False, indent=4)"
   ]
  },
  {
   "cell_type": "code",
   "execution_count": null,
   "id": "032f0039-b540-4535-a3a4-a135eaa3894a",
   "metadata": {},
   "outputs": [],
   "source": []
  },
  {
   "cell_type": "code",
   "execution_count": null,
   "id": "636ea32c-9c71-4678-8f36-e058fadfd903",
   "metadata": {},
   "outputs": [],
   "source": []
  },
  {
   "cell_type": "code",
   "execution_count": null,
   "id": "05cd9e14-9fed-42ff-9e3a-87663a9dd101",
   "metadata": {},
   "outputs": [],
   "source": []
  }
 ],
 "metadata": {
  "kernelspec": {
   "display_name": "Python 3 (ipykernel)",
   "language": "python",
   "name": "python3"
  },
  "language_info": {
   "codemirror_mode": {
    "name": "ipython",
    "version": 3
   },
   "file_extension": ".py",
   "mimetype": "text/x-python",
   "name": "python",
   "nbconvert_exporter": "python",
   "pygments_lexer": "ipython3",
   "version": "3.9.13"
  }
 },
 "nbformat": 4,
 "nbformat_minor": 5
}
