{
 "cells": [
  {
   "cell_type": "code",
   "execution_count": 1,
   "id": "056ef940",
   "metadata": {},
   "outputs": [],
   "source": [
    "import json"
   ]
  },
  {
   "cell_type": "code",
   "execution_count": 2,
   "id": "5f31ef14",
   "metadata": {},
   "outputs": [],
   "source": [
    "reference_data = []\n",
    "llava_data=[]"
   ]
  },
  {
   "cell_type": "code",
   "execution_count": 3,
   "id": "1d68f8ec",
   "metadata": {},
   "outputs": [],
   "source": [
    "def evaluate_llava_results(file1_path, file2_path):\n",
    "        \n",
    "    with open(file1_path, 'r', encoding='utf-8') as file1:\n",
    "        for line in file1:\n",
    "            json_obj = json.loads(line)\n",
    "            llava_data.append(json_obj)\n",
    "        \n",
    "    with open(file2_path, 'r', encoding='utf-8') as f:\n",
    "        for line in f:\n",
    "            json_obj = json.loads(line)\n",
    "            reference_data.append(json_obj)\n",
    "\n",
    "    total_samples = len(llava_data)\n",
    "    total_accuracy = 0.0\n",
    "\n",
    "    for llava_sample, reference_sample in zip(llava_data, reference_data):\n",
    "        llava_text = llava_sample['text']\n",
    "        reference_answer = reference_sample['label']\n",
    "\n",
    "        # 计算 llava 生成内容在参考答案中所占的字符比重\n",
    "        llava_len = len(llava_text)\n",
    "        reference_len=len(reference_answer)\n",
    "        match_len = sum(1 for char in llava_text if char in reference_answer)\n",
    "        accuracy = match_len / reference_len\n",
    "        if accuracy>1:\n",
    "            accuracy=1\n",
    "\n",
    "        total_accuracy += accuracy\n",
    "\n",
    "    average_accuracy = total_accuracy / total_samples\n",
    "    return average_accuracy"
   ]
  },
  {
   "cell_type": "code",
   "execution_count": 4,
   "id": "4c320c33",
   "metadata": {},
   "outputs": [
    {
     "name": "stdout",
     "output_type": "stream",
     "text": [
      "Accuracy: 0.5972000000000004\n"
     ]
    }
   ],
   "source": [
    "file1_path = 'answer_base.jsonl'\n",
    "file2_path = 'data.jsonl'\n",
    "accuracy = evaluate_llava_results(file1_path, file2_path)\n",
    "print(f\"Accuracy: {accuracy}\")"
   ]
  },
  {
   "cell_type": "code",
   "execution_count": null,
   "id": "b31287ec",
   "metadata": {},
   "outputs": [],
   "source": []
  },
  {
   "cell_type": "code",
   "execution_count": null,
   "id": "8339231d",
   "metadata": {},
   "outputs": [],
   "source": []
  },
  {
   "cell_type": "code",
   "execution_count": null,
   "id": "7fe5d371",
   "metadata": {},
   "outputs": [],
   "source": []
  },
  {
   "cell_type": "code",
   "execution_count": null,
   "id": "c2af65e2",
   "metadata": {},
   "outputs": [],
   "source": []
  }
 ],
 "metadata": {
  "kernelspec": {
   "display_name": "Python 3 (ipykernel)",
   "language": "python",
   "name": "python3"
  },
  "language_info": {
   "codemirror_mode": {
    "name": "ipython",
    "version": 3
   },
   "file_extension": ".py",
   "mimetype": "text/x-python",
   "name": "python",
   "nbconvert_exporter": "python",
   "pygments_lexer": "ipython3",
   "version": "3.9.13"
  }
 },
 "nbformat": 4,
 "nbformat_minor": 5
}
