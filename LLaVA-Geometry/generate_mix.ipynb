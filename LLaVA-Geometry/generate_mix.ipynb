{
 "cells": [
  {
   "cell_type": "code",
   "execution_count": 1,
   "id": "0dc8b670-a8aa-4d20-9e19-95cac4851c79",
   "metadata": {},
   "outputs": [],
   "source": [
    "import json\n",
    "\n"
   ]
  },
  {
   "cell_type": "code",
   "execution_count": 2,
   "id": "4ca1046f-8c2f-4ce3-9b35-5b966e0dee77",
   "metadata": {},
   "outputs": [],
   "source": [
    "def merge_json(file1, file2, output_file):\n",
    "    with open(file1, 'r') as f1, open(file2, 'r') as f2:\n",
    "        data1 = json.load(f1)\n",
    "        data2 = json.load(f2)\n",
    "\n",
    "    merged_data = {}\n",
    "\n",
    "    if isinstance(data1, list) and isinstance(data2, list):\n",
    "        merged_data = data1 + data2\n",
    "    elif isinstance(data1, dict) and isinstance(data2, dict):\n",
    "        merged_data.update(data1)\n",
    "        merged_data.update(data2)\n",
    "    else:\n",
    "        raise ValueError(\"Invalid data format in JSON files.\")\n",
    "\n",
    "    with open(output_file, 'w') as outfile:\n",
    "        json.dump(merged_data, outfile)\n",
    "\n"
   ]
  },
  {
   "cell_type": "code",
   "execution_count": 3,
   "id": "5acaa346-04aa-4a53-adce-2d94c71a0257",
   "metadata": {},
   "outputs": [],
   "source": [
    "# 用法示例\n",
    "file1 = 'data_base.jsonl'\n",
    "file2 = 'data_cot.jsonl'\n",
    "output_file = 'data_base_cot.jsonl'\n",
    "\n",
    "merge_json(file1, file2, output_file)"
   ]
  },
  {
   "cell_type": "code",
   "execution_count": null,
   "id": "568934fc-9053-4a99-b095-c7304444990d",
   "metadata": {},
   "outputs": [],
   "source": []
  }
 ],
 "metadata": {
  "kernelspec": {
   "display_name": "Python 3 (ipykernel)",
   "language": "python",
   "name": "python3"
  },
  "language_info": {
   "codemirror_mode": {
    "name": "ipython",
    "version": 3
   },
   "file_extension": ".py",
   "mimetype": "text/x-python",
   "name": "python",
   "nbconvert_exporter": "python",
   "pygments_lexer": "ipython3",
   "version": "3.11.5"
  }
 },
 "nbformat": 4,
 "nbformat_minor": 5
}
