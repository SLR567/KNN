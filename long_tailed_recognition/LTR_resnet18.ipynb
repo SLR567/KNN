{
 "cells": [
  {
   "cell_type": "code",
   "execution_count": 1,
   "id": "651cfaa9",
   "metadata": {},
   "outputs": [],
   "source": [
    "import torch\n",
    "import torch.nn as nn\n",
    "import torch.optim as optim\n",
    "import torchvision\n",
    "import torchvision.transforms as transforms\n",
    "from torchvision.datasets import CIFAR10, FashionMNIST\n",
    "from torch.utils.data import DataLoader"
   ]
  },
  {
   "cell_type": "code",
   "execution_count": 2,
   "id": "0273065c",
   "metadata": {},
   "outputs": [
    {
     "name": "stdout",
     "output_type": "stream",
     "text": [
      "3.9.13 (main, Aug 25 2022, 23:26:10) \n",
      "[GCC 11.2.0]\n",
      "2.0.1\n"
     ]
    }
   ],
   "source": [
    "from __future__ import print_function, division\n",
    "import os, random, time, copy, scipy, pickle, sys, math\n",
    "from skimage import io, transform\n",
    "import numpy as np\n",
    "import os.path as path\n",
    "import scipy.io as sio\n",
    "from scipy import misc\n",
    "from scipy import ndimage, signal\n",
    "import matplotlib.pyplot as plt\n",
    "import PIL.Image\n",
    "from io import BytesIO\n",
    "from skimage import data, img_as_float\n",
    "\n",
    "import pandas as pd\n",
    "import seaborn as sn\n",
    "import sklearn.metrics \n",
    "from skimage.metrics import structural_similarity as ssim\n",
    "from skimage.metrics import peak_signal_noise_ratio as psnr\n",
    "from torch.utils.data import Dataset, DataLoader\n",
    "from torch.optim import lr_scheduler \n",
    "import torch.nn.functional as F\n",
    "from torch.autograd import Variable\n",
    "from torchvision import datasets, models, transforms\n",
    "\n",
    "from utils.eval_funcs import *\n",
    "from utils.dataset_CIFAR100LT import *\n",
    "from utils.network_arch_resnet import *\n",
    "from utils.trainval import *\n",
    "from utils.plot_funcs import *\n",
    "import warnings # ignore warnings\n",
    "warnings.filterwarnings(\"ignore\")\n",
    "print(sys.version)\n",
    "print(torch.__version__)"
   ]
  },
  {
   "cell_type": "code",
   "execution_count": 3,
   "id": "fe04dc13",
   "metadata": {},
   "outputs": [],
   "source": [
    "# 定义深度卷积神经网络模型\n",
    "class Model(nn.Module):\n",
    "    def __init__(self, num_classes):\n",
    "        super(Model, self).__init__()\n",
    "        self.features = nn.Sequential(\n",
    "            nn.Conv2d(3, 32, kernel_size=3, stride=1, padding=1),\n",
    "            nn.ReLU(),\n",
    "            nn.Conv2d(32, 64, kernel_size=3, stride=1, padding=1),\n",
    "            nn.ReLU(),\n",
    "            nn.MaxPool2d(kernel_size=2, stride=2)\n",
    "        )\n",
    "        self.classifier = nn.Sequential(\n",
    "            #nn.Linear(64 * 16 * 16, 128),\n",
    "            nn.Linear(64 * 16 * 16, 128),\n",
    "            nn.ReLU(),\n",
    "            nn.Linear(128, num_classes)\n",
    "        )\n",
    "        self.classifier1 = nn.Sequential(\n",
    "            #nn.Linear(64 * 16 * 16, 128),\n",
    "            nn.Linear(64 * 14 * 14, 128),\n",
    "            nn.ReLU(),\n",
    "            nn.Linear(128, num_classes)\n",
    "        )\n",
    "        self.unknown_class = num_classes\n",
    "\n",
    "    def forward(self, x):\n",
    "        x = self.features(x)\n",
    "        x = x.view(x.size(0), -1)\n",
    "        x = self.classifier(x)\n",
    "        return x\n",
    "\n",
    "    def open_set_forward(self, x, known_classes):\n",
    "        x = self.features(x)\n",
    "        #print(x.shape) \n",
    "        x = x.view(x.size(0), -1)\n",
    "        #print(x.shape) \n",
    "        logits = self.classifier(x)\n",
    "\n",
    "        # 计算每个样本的开放集得分\n",
    "        open_scores = torch.softmax(logits[:, known_classes], dim=1)\n",
    "\n",
    "        # 添加未知类别得分\n",
    "        unknown_scores = torch.zeros(x.size(0), 1).to(x.device)\n",
    "        open_scores = torch.cat((open_scores, unknown_scores), dim=1)\n",
    "\n",
    "        return open_scores"
   ]
  },
  {
   "cell_type": "code",
   "execution_count": 4,
   "id": "94c42329",
   "metadata": {},
   "outputs": [
    {
     "name": "stdout",
     "output_type": "stream",
     "text": [
      "cuda\n"
     ]
    }
   ],
   "source": [
    "# 设置随机种子和设备\n",
    "torch.manual_seed(2024)\n",
    "device = torch.device(\"cuda\" if torch.cuda.is_available() else \"cpu\")\n",
    "#device = torch.device(\"cpu\")\n",
    "print(device)"
   ]
  },
  {
   "cell_type": "code",
   "execution_count": 5,
   "id": "f05d3675",
   "metadata": {},
   "outputs": [],
   "source": [
    "epoch_number=[]\n",
    "loss_record=[]"
   ]
  },
  {
   "cell_type": "code",
   "execution_count": 6,
   "id": "513a259e",
   "metadata": {},
   "outputs": [],
   "source": [
    "class_number=[]\n",
    "class_acc=[]\n",
    "class_sample=[]"
   ]
  },
  {
   "cell_type": "code",
   "execution_count": 7,
   "id": "89cf340b",
   "metadata": {},
   "outputs": [],
   "source": [
    "# 训练闭集模型\n",
    "def train(model, train_loader, criterion, optimizer, num_epochs):\n",
    "    model.train()\n",
    "    for epoch in range(num_epochs):\n",
    "        epoch_number.append(epoch)\n",
    "        running_loss = 0.0\n",
    "        for i, (images, labels) in enumerate(train_loader):\n",
    "            images = images.to(device)\n",
    "            labels = labels.to(device)\n",
    "\n",
    "            optimizer.zero_grad()\n",
    "\n",
    "            outputs = model(images)\n",
    "            loss = criterion(outputs, labels)\n",
    "            loss.backward()\n",
    "            optimizer.step()\n",
    "\n",
    "            running_loss += loss.item()\n",
    "\n",
    "        loss_record.append(running_loss / len(train_loader))\n",
    "        print(f\"Epoch [{epoch+1}/{num_epochs}], Loss: {running_loss / len(train_loader)}\")"
   ]
  },
  {
   "cell_type": "code",
   "execution_count": 8,
   "id": "7f1dfdcc",
   "metadata": {},
   "outputs": [],
   "source": [
    "# 测试开放集识别\n",
    "def test(model, test_loader, known_classes):\n",
    "    model.eval()\n",
    "    correct = 0\n",
    "    total = 0\n",
    "    with torch.no_grad():\n",
    "        for images, labels in test_loader:\n",
    "            images = images.to(device)\n",
    "            labels = labels.to(device)\n",
    "\n",
    "            open_scores = model.open_set_forward(images, known_classes)\n",
    "            _, predicted = torch.max(open_scores.data, 1)\n",
    "\n",
    "            total += labels.size(0)\n",
    "            correct += (predicted == labels).sum().item()\n",
    "\n",
    "    accuracy = 100.0 * correct / total\n",
    "    print(f\"Test Accuracy: {accuracy}%\")"
   ]
  },
  {
   "cell_type": "code",
   "execution_count": 9,
   "id": "1e5abaea",
   "metadata": {},
   "outputs": [
    {
     "data": {
      "text/plain": [
       "'\\ntransform = transforms.Compose([\\n    transforms.ToTensor(),\\n    transforms.Resize((32, 32)),\\n    transforms.Normalize((0.5, 0.5, 0.5), (0.5, 0.5, 0.5))\\n])\\n'"
      ]
     },
     "execution_count": 9,
     "metadata": {},
     "output_type": "execute_result"
    }
   ],
   "source": [
    "# 数据预处理和加载器\n",
    "'''\n",
    "transform = transforms.Compose([\n",
    "    transforms.ToTensor(),\n",
    "    transforms.Resize((32, 32)),\n",
    "    transforms.Normalize((0.5, 0.5, 0.5), (0.5, 0.5, 0.5))\n",
    "])\n",
    "'''"
   ]
  },
  {
   "cell_type": "code",
   "execution_count": 10,
   "id": "ce6f27f2",
   "metadata": {},
   "outputs": [],
   "source": [
    "\n",
    "# Define the transformations for CIFAR10\n",
    "transform_cifar = transforms.Compose([\n",
    "    transforms.ToTensor(),\n",
    "    transforms.Resize((32, 32)),\n",
    "    transforms.Normalize((0.5, 0.5, 0.5), (0.5, 0.5, 0.5))\n",
    "])\n"
   ]
  },
  {
   "cell_type": "code",
   "execution_count": 11,
   "id": "948a3f48",
   "metadata": {},
   "outputs": [],
   "source": [
    "# Define the transformations for MNIST\n",
    "transform_mnist = transforms.Compose([\n",
    "    transforms.Grayscale(num_output_channels=3),\n",
    "    transforms.ToTensor(),\n",
    "    transforms.Resize((32, 32)),\n",
    "    transforms.Normalize((0.5, 0.5, 0.5), (0.5, 0.5, 0.5))\n",
    "])"
   ]
  },
  {
   "cell_type": "code",
   "execution_count": 12,
   "id": "4a22eb0e",
   "metadata": {},
   "outputs": [
    {
     "data": {
      "text/plain": [
       "\"\\ntrain_dataset = torchvision.datasets.CIFAR10(root='data', train=True, download=True, transform=transform_cifar)\\ntrain_loader = DataLoader(train_dataset, batch_size=64, shuffle=True, num_workers=2)\\n\""
      ]
     },
     "execution_count": 12,
     "metadata": {},
     "output_type": "execute_result"
    }
   ],
   "source": [
    "'''\n",
    "train_dataset = torchvision.datasets.CIFAR10(root='data', train=True, download=True, transform=transform_cifar)\n",
    "train_loader = DataLoader(train_dataset, batch_size=64, shuffle=True, num_workers=2)\n",
    "'''"
   ]
  },
  {
   "cell_type": "code",
   "execution_count": 13,
   "id": "5bbfec48",
   "metadata": {},
   "outputs": [
    {
     "name": "stdout",
     "output_type": "stream",
     "text": [
      "Files already downloaded and verified\n"
     ]
    }
   ],
   "source": [
    "# 加载CIFAR10测试集\n",
    "testset = torchvision.datasets.CIFAR10(root='data', train=False,\n",
    "                                       download=True, transform=transform_cifar)\n",
    "testloader = DataLoader(testset, batch_size=64,\n",
    "                                         shuffle=False, num_workers=2)\n"
   ]
  },
  {
   "cell_type": "code",
   "execution_count": 14,
   "id": "ca57aae1",
   "metadata": {},
   "outputs": [],
   "source": [
    "test_dataset = torchvision.datasets.FashionMNIST(root='data', train=False, download=True, transform=transform_mnist)\n",
    "test_loader = DataLoader(test_dataset, batch_size=64, shuffle=False, num_workers=2)\n"
   ]
  },
  {
   "cell_type": "code",
   "execution_count": 15,
   "id": "c54f71b0",
   "metadata": {},
   "outputs": [
    {
     "name": "stdout",
     "output_type": "stream",
     "text": [
      "Files already downloaded and verified\n",
      "Class 0: 250000 samples\n",
      "Class 1: 234500 samples\n",
      "Class 2: 220500 samples\n",
      "Class 3: 207000 samples\n",
      "Class 4: 194000 samples\n",
      "Class 5: 182500 samples\n",
      "Class 6: 171500 samples\n",
      "Class 7: 161000 samples\n",
      "Class 8: 151000 samples\n",
      "Class 9: 142000 samples\n",
      "Class 10: 133000 samples\n",
      "Class 11: 125000 samples\n",
      "Class 12: 117500 samples\n",
      "Class 13: 110500 samples\n",
      "Class 14: 103500 samples\n",
      "Class 15: 97500 samples\n",
      "Class 16: 91500 samples\n",
      "Class 17: 85500 samples\n",
      "Class 18: 80500 samples\n",
      "Class 19: 75500 samples\n",
      "Class 20: 71000 samples\n",
      "Class 21: 66500 samples\n",
      "Class 22: 62500 samples\n",
      "Class 23: 59000 samples\n",
      "Class 24: 55000 samples\n",
      "Class 25: 52000 samples\n",
      "Class 26: 48500 samples\n",
      "Class 27: 45500 samples\n",
      "Class 28: 43000 samples\n",
      "Class 29: 40000 samples\n",
      "Class 30: 38000 samples\n",
      "Class 31: 35500 samples\n",
      "Class 32: 33500 samples\n",
      "Class 33: 31000 samples\n",
      "Class 34: 29500 samples\n",
      "Class 35: 27500 samples\n",
      "Class 36: 26000 samples\n",
      "Class 37: 24500 samples\n",
      "Class 38: 23000 samples\n",
      "Class 39: 21500 samples\n",
      "Class 40: 20000 samples\n",
      "Class 41: 19000 samples\n",
      "Class 42: 17500 samples\n",
      "Class 43: 16500 samples\n",
      "Class 44: 15500 samples\n",
      "Class 45: 14500 samples\n",
      "Class 46: 13500 samples\n",
      "Class 47: 13000 samples\n",
      "Class 48: 12000 samples\n",
      "Class 49: 11500 samples\n",
      "Class 50: 10500 samples\n",
      "Class 51: 10000 samples\n",
      "Class 52: 9500 samples\n",
      "Class 53: 8500 samples\n",
      "Class 54: 8000 samples\n",
      "Class 55: 7500 samples\n",
      "Class 56: 7000 samples\n",
      "Class 57: 6500 samples\n",
      "Class 58: 6500 samples\n",
      "Class 59: 6000 samples\n",
      "Class 60: 5500 samples\n",
      "Class 61: 5000 samples\n",
      "Class 62: 5000 samples\n",
      "Class 63: 4500 samples\n",
      "Class 64: 4000 samples\n",
      "Class 65: 4000 samples\n",
      "Class 66: 3500 samples\n",
      "Class 67: 3500 samples\n",
      "Class 68: 3500 samples\n",
      "Class 69: 3000 samples\n",
      "Class 70: 3000 samples\n",
      "Class 71: 2500 samples\n",
      "Class 72: 2500 samples\n",
      "Class 73: 2500 samples\n",
      "Class 74: 2000 samples\n",
      "Class 75: 2000 samples\n",
      "Class 76: 2000 samples\n",
      "Class 77: 1500 samples\n",
      "Class 78: 1500 samples\n",
      "Class 79: 1500 samples\n",
      "Class 80: 1500 samples\n",
      "Class 81: 1500 samples\n",
      "Class 82: 1000 samples\n",
      "Class 83: 1000 samples\n",
      "Class 84: 1000 samples\n",
      "Class 85: 1000 samples\n",
      "Class 86: 1000 samples\n",
      "Class 87: 1000 samples\n",
      "Class 88: 500 samples\n",
      "Class 89: 500 samples\n",
      "Class 90: 500 samples\n",
      "Class 91: 500 samples\n",
      "Class 92: 500 samples\n",
      "Class 93: 500 samples\n",
      "Class 94: 500 samples\n",
      "Class 95: 500 samples\n",
      "Class 96: 500 samples\n",
      "Class 97: 500 samples\n",
      "Class 98: 500 samples\n",
      "Class 99: 500 samples\n"
     ]
    }
   ],
   "source": [
    "import numpy as np\n",
    "from torchvision import datasets\n",
    "\n",
    "def build_long_tailed_dataset(dataset, imbalance_ratio):\n",
    "    num_classes = len(dataset.classes)\n",
    "    class_counts = np.zeros(num_classes, dtype=int)\n",
    "    \n",
    "    for _, label in dataset:\n",
    "        class_counts[label] += 1\n",
    "    \n",
    "    max_class_count = class_counts.max()\n",
    "    \n",
    "    # Calculate the number of samples to keep for each class based on the imbalance ratio\n",
    "    #num_samples_per_class = np.zeros(num_classes, dtype=int)\n",
    "    total_num=50000\n",
    "    imb_type = 'exp' # samling long-tailed training set with an exponetially-decaying function\n",
    "    imb_factor = 0.002 # imbalance factor = 100 = 1/0.01\n",
    "    num_samples_per_class = get_img_num_per_cls(100, total_num, imb_type, imb_factor)\n",
    "    #for i, count in enumerate(class_counts):\n",
    "        #num_samples_per_class[i] = int(max_class_count / (imbalance_ratio ** i))\n",
    "        #num_samples_per_class[i] = int(max_class_count -imbalance_ratio **i)\n",
    "    \n",
    "    # Create a new dataset with imbalanced class distribution\n",
    "    long_tailed_dataset = []\n",
    "    \n",
    "    for data, label in dataset:\n",
    "        class_count = class_counts[label]\n",
    "        num_samples = num_samples_per_class[label]\n",
    "        \n",
    "        if class_count <= num_samples:\n",
    "            long_tailed_dataset.extend([(data, label)] * class_count)\n",
    "        else:\n",
    "            long_tailed_dataset.extend([(data, label)] * num_samples)\n",
    "    \n",
    "    return long_tailed_dataset\n",
    "\n",
    "# Load the CIFAR-100 dataset\n",
    "cifar100_train = datasets.CIFAR100(root='data', train=True, download=True, transform=transform_cifar)\n",
    "\n",
    "# Build a long-tailed version of the CIFAR-100 dataset with imbalance ratio of 10\n",
    "imbalance_ratio = 1.06\n",
    "\n",
    "long_tailed_cifar100_train = build_long_tailed_dataset(cifar100_train, imbalance_ratio)\n",
    "\n",
    "# Print the class distribution of the long-tailed dataset\n",
    "class_counts = np.zeros(100, dtype=int)\n",
    "for _, label in long_tailed_cifar100_train:\n",
    "    class_counts[label] += 1\n",
    "\n",
    "for i, count in enumerate(class_counts):\n",
    "    print(f\"Class {i}: {count} samples\")\n",
    "    class_sample.append(count)"
   ]
  },
  {
   "cell_type": "code",
   "execution_count": 16,
   "id": "f2ca6bba",
   "metadata": {},
   "outputs": [],
   "source": [
    "train_loader = DataLoader(long_tailed_cifar100_train, batch_size=64, shuffle=True, num_workers=2)"
   ]
  },
  {
   "cell_type": "code",
   "execution_count": 17,
   "id": "5696d20d",
   "metadata": {},
   "outputs": [
    {
     "name": "stdout",
     "output_type": "stream",
     "text": [
      "Files already downloaded and verified\n"
     ]
    }
   ],
   "source": [
    "cifar100_test = datasets.CIFAR100(root='data', train=False, download=True, transform=transform_cifar)"
   ]
  },
  {
   "cell_type": "code",
   "execution_count": 18,
   "id": "370f6245",
   "metadata": {},
   "outputs": [],
   "source": [
    "testloader=DataLoader(cifar100_test, batch_size=64, shuffle=True, num_workers=2)"
   ]
  },
  {
   "cell_type": "code",
   "execution_count": 19,
   "id": "c45c0f1a",
   "metadata": {},
   "outputs": [],
   "source": [
    "# 初始化模型、损失函数和优化器\n",
    "num_classes = 100  # 已知类别数量\n",
    "#model = Model(num_classes)\n",
    "model = models.resnet18(num_classes)\n",
    "model = model.to(device)\n",
    "criterion = nn.CrossEntropyLoss()\n",
    "#optimizer = optim.Adam(model.parameters())\n",
    "optimizer = optim.SGD(model.parameters(), lr=0.001, momentum=0.9)"
   ]
  },
  {
   "cell_type": "code",
   "execution_count": 20,
   "id": "850b20a5",
   "metadata": {},
   "outputs": [],
   "source": [
    "if torch.cuda.is_available():\n",
    "    torch.cuda.set_device(0)"
   ]
  },
  {
   "cell_type": "code",
   "execution_count": 21,
   "id": "7c79e65d",
   "metadata": {},
   "outputs": [
    {
     "name": "stdout",
     "output_type": "stream",
     "text": [
      "Epoch [1/10], Loss: 0.14658519218370278\n",
      "Epoch [2/10], Loss: 0.01678670999988484\n",
      "Epoch [3/10], Loss: 0.007907018725770825\n",
      "Epoch [4/10], Loss: 0.004646229158384053\n",
      "Epoch [5/10], Loss: 0.0030411396814293656\n",
      "Epoch [6/10], Loss: 0.002221038855103135\n",
      "Epoch [7/10], Loss: 0.0016979461743732865\n",
      "Epoch [8/10], Loss: 0.001240977601545486\n",
      "Epoch [9/10], Loss: 0.0009189128093485352\n",
      "Epoch [10/10], Loss: 0.0007302961498327697\n"
     ]
    }
   ],
   "source": [
    "# 训练模型\n",
    "train(model, train_loader, criterion, optimizer, num_epochs=10)"
   ]
  },
  {
   "cell_type": "code",
   "execution_count": 22,
   "id": "102ed646",
   "metadata": {},
   "outputs": [
    {
     "name": "stdout",
     "output_type": "stream",
     "text": [
      "Accuracy of class 0: 90.00%\n",
      "Accuracy of class 1: 81.00%\n",
      "Accuracy of class 2: 54.00%\n",
      "Accuracy of class 3: 46.00%\n",
      "Accuracy of class 4: 48.00%\n",
      "Accuracy of class 5: 72.00%\n",
      "Accuracy of class 6: 68.00%\n",
      "Accuracy of class 7: 70.00%\n",
      "Accuracy of class 8: 76.00%\n",
      "Accuracy of class 9: 74.00%\n",
      "Accuracy of class 10: 42.00%\n",
      "Accuracy of class 11: 35.00%\n",
      "Accuracy of class 12: 67.00%\n",
      "Accuracy of class 13: 50.00%\n",
      "Accuracy of class 14: 58.00%\n",
      "Accuracy of class 15: 54.00%\n",
      "Accuracy of class 16: 64.00%\n",
      "Accuracy of class 17: 76.00%\n",
      "Accuracy of class 18: 48.00%\n",
      "Accuracy of class 19: 42.00%\n",
      "Accuracy of class 20: 84.00%\n",
      "Accuracy of class 21: 72.00%\n",
      "Accuracy of class 22: 52.00%\n",
      "Accuracy of class 23: 79.00%\n",
      "Accuracy of class 24: 77.00%\n",
      "Accuracy of class 25: 36.00%\n",
      "Accuracy of class 26: 49.00%\n",
      "Accuracy of class 27: 31.00%\n",
      "Accuracy of class 28: 67.00%\n",
      "Accuracy of class 29: 48.00%\n",
      "Accuracy of class 30: 52.00%\n",
      "Accuracy of class 31: 44.00%\n",
      "Accuracy of class 32: 35.00%\n",
      "Accuracy of class 33: 48.00%\n",
      "Accuracy of class 34: 49.00%\n",
      "Accuracy of class 35: 24.00%\n",
      "Accuracy of class 36: 47.00%\n",
      "Accuracy of class 37: 40.00%\n",
      "Accuracy of class 38: 36.00%\n",
      "Accuracy of class 39: 75.00%\n",
      "Accuracy of class 40: 41.00%\n",
      "Accuracy of class 41: 70.00%\n",
      "Accuracy of class 42: 47.00%\n",
      "Accuracy of class 43: 60.00%\n",
      "Accuracy of class 44: 16.00%\n",
      "Accuracy of class 45: 29.00%\n",
      "Accuracy of class 46: 36.00%\n",
      "Accuracy of class 47: 60.00%\n",
      "Accuracy of class 48: 75.00%\n",
      "Accuracy of class 49: 64.00%\n",
      "Accuracy of class 50: 25.00%\n",
      "Accuracy of class 51: 43.00%\n",
      "Accuracy of class 52: 59.00%\n",
      "Accuracy of class 53: 75.00%\n",
      "Accuracy of class 54: 54.00%\n",
      "Accuracy of class 55: 15.00%\n",
      "Accuracy of class 56: 68.00%\n",
      "Accuracy of class 57: 48.00%\n",
      "Accuracy of class 58: 54.00%\n",
      "Accuracy of class 59: 43.00%\n",
      "Accuracy of class 60: 65.00%\n",
      "Accuracy of class 61: 53.00%\n",
      "Accuracy of class 62: 55.00%\n",
      "Accuracy of class 63: 38.00%\n",
      "Accuracy of class 64: 21.00%\n",
      "Accuracy of class 65: 23.00%\n",
      "Accuracy of class 66: 31.00%\n",
      "Accuracy of class 67: 31.00%\n",
      "Accuracy of class 68: 71.00%\n",
      "Accuracy of class 69: 68.00%\n",
      "Accuracy of class 70: 30.00%\n",
      "Accuracy of class 71: 66.00%\n",
      "Accuracy of class 72: 14.00%\n",
      "Accuracy of class 73: 38.00%\n",
      "Accuracy of class 74: 16.00%\n",
      "Accuracy of class 75: 61.00%\n",
      "Accuracy of class 76: 73.00%\n",
      "Accuracy of class 77: 29.00%\n",
      "Accuracy of class 78: 40.00%\n",
      "Accuracy of class 79: 49.00%\n",
      "Accuracy of class 80: 20.00%\n",
      "Accuracy of class 81: 45.00%\n",
      "Accuracy of class 82: 65.00%\n",
      "Accuracy of class 83: 35.00%\n",
      "Accuracy of class 84: 31.00%\n",
      "Accuracy of class 85: 65.00%\n",
      "Accuracy of class 86: 52.00%\n",
      "Accuracy of class 87: 63.00%\n",
      "Accuracy of class 88: 40.00%\n",
      "Accuracy of class 89: 42.00%\n",
      "Accuracy of class 90: 46.00%\n",
      "Accuracy of class 91: 59.00%\n",
      "Accuracy of class 92: 29.00%\n",
      "Accuracy of class 93: 23.00%\n",
      "Accuracy of class 94: 81.00%\n",
      "Accuracy of class 95: 48.00%\n",
      "Accuracy of class 96: 31.00%\n",
      "Accuracy of class 97: 40.00%\n",
      "Accuracy of class 98: 21.00%\n",
      "Accuracy of class 99: 57.00%\n"
     ]
    }
   ],
   "source": [
    "class_correct = [0] * 100\n",
    "class_total = [0] * 100\n",
    "\n",
    "with torch.no_grad():\n",
    "    for data in testloader:\n",
    "        images, labels = data\n",
    "        images = images.to(device)\n",
    "        labels = labels.to(device)\n",
    "        outputs = model(images)\n",
    "        _, predicted = torch.max(outputs, 1)\n",
    "        c = (predicted == labels).squeeze()\n",
    "        for i in range(len(labels)):\n",
    "            label = labels[i]\n",
    "            class_correct[label] += c[i].item()\n",
    "            class_total[label] += 1\n",
    "\n",
    "for i in range(100):\n",
    "    class_number.append(i)\n",
    "    accuracy = 100 * class_correct[i] / class_total[i]\n",
    "    class_acc.append(accuracy)\n",
    "    print(f'Accuracy of class {i}: {accuracy:.2f}%')"
   ]
  },
  {
   "cell_type": "code",
   "execution_count": 23,
   "id": "5bb48653",
   "metadata": {},
   "outputs": [],
   "source": [
    "# 测试模型\n",
    "#test(model, test_loader, known_classes=list(range(num_classes)))"
   ]
  },
  {
   "cell_type": "code",
   "execution_count": 24,
   "id": "87ea516c",
   "metadata": {},
   "outputs": [
    {
     "data": {
      "text/plain": [
       "'\\n# 计算开放集似然性\\ndef calculate_open_set_likelihood(testloader, open_set_loader):\\n    model.eval()\\n    softmax = nn.Softmax(dim=1)\\n\\n    scores = []\\n    labels = []\\n\\n    with torch.no_grad():\\n        for data in testloader:\\n            images, true_labels = data\\n            images = images.to(device)\\n            true_labels = true_labels.to(device)\\n            outputs = model(images)\\n            probabilities = softmax(outputs)\\n            max_probabilities, _ = torch.max(probabilities, 1)\\n            scores.extend(max_probabilities.cpu().numpy())\\n            labels.extend(true_labels.cpu().numpy())\\n\\n    open_set_scores = []\\n\\n    with torch.no_grad():\\n        for data in open_set_loader:\\n            images, _ = data\\n            images = images.to(device)\\n            outputs = model(images)\\n            probabilities = softmax(outputs)\\n            max_probabilities, _ = torch.max(probabilities, 1)\\n            open_set_scores.extend(max_probabilities.cpu().numpy())\\n\\n    return np.array(scores), np.array(open_set_scores), np.array(labels)\\n\\n# 计算似然性并绘制ROC曲线\\nscores, open_set_scores, labels = calculate_open_set_likelihood(testloader, test_loader)\\n\\nfpr, tpr, thresholds = roc_curve(labels, scores, pos_label=1)\\nroc_auc = auc(fpr, tpr)\\n\\nopen_set_fpr, open_set_tpr, _ = roc_curve(np.concatenate((np.ones_like(labels), np.zeros_like(open_set_scores))), np.concatenate((scores, open_set_scores)))\\nopen_set_roc_auc = auc(open_set_fpr, open_set_tpr)\\n\\n# 绘制ROC曲线\\nimport matplotlib.pyplot as plt\\nplt.figure()\\nplt.plot(fpr, tpr, color=\\'darkorange\\', label=\\'ROC curve (area = %0.2f)\\' % roc_auc)\\nplt.plot(open_set_fpr, open_set_tpr, color=\\'blue\\', linestyle=\\'--\\', label=\\'Open-set ROC curve (area = %0.2f)\\' % open_set_roc_auc)\\nplt.plot([0, 1], [0, 1], color=\\'navy\\', linestyle=\\'--\\')\\nplt.xlim([0.0, 1.0])\\nplt.ylim([0.0, 1.05])\\nplt.xlabel(\\'False Positive Rate\\')\\nplt.ylabel(\\'True Positive Rate\\')\\nplt.title(\\'Receiver Operating Characteristic\\')\\nplt.legend(loc=\"lower right\")\\nplt.show()\\n'"
      ]
     },
     "execution_count": 24,
     "metadata": {},
     "output_type": "execute_result"
    }
   ],
   "source": [
    "import numpy as np\n",
    "from sklearn.metrics import roc_curve, auc\n",
    "'''\n",
    "# 计算开放集似然性\n",
    "def calculate_open_set_likelihood(testloader, open_set_loader):\n",
    "    model.eval()\n",
    "    softmax = nn.Softmax(dim=1)\n",
    "\n",
    "    scores = []\n",
    "    labels = []\n",
    "\n",
    "    with torch.no_grad():\n",
    "        for data in testloader:\n",
    "            images, true_labels = data\n",
    "            images = images.to(device)\n",
    "            true_labels = true_labels.to(device)\n",
    "            outputs = model(images)\n",
    "            probabilities = softmax(outputs)\n",
    "            max_probabilities, _ = torch.max(probabilities, 1)\n",
    "            scores.extend(max_probabilities.cpu().numpy())\n",
    "            labels.extend(true_labels.cpu().numpy())\n",
    "\n",
    "    open_set_scores = []\n",
    "\n",
    "    with torch.no_grad():\n",
    "        for data in open_set_loader:\n",
    "            images, _ = data\n",
    "            images = images.to(device)\n",
    "            outputs = model(images)\n",
    "            probabilities = softmax(outputs)\n",
    "            max_probabilities, _ = torch.max(probabilities, 1)\n",
    "            open_set_scores.extend(max_probabilities.cpu().numpy())\n",
    "\n",
    "    return np.array(scores), np.array(open_set_scores), np.array(labels)\n",
    "\n",
    "# 计算似然性并绘制ROC曲线\n",
    "scores, open_set_scores, labels = calculate_open_set_likelihood(testloader, test_loader)\n",
    "\n",
    "fpr, tpr, thresholds = roc_curve(labels, scores, pos_label=1)\n",
    "roc_auc = auc(fpr, tpr)\n",
    "\n",
    "open_set_fpr, open_set_tpr, _ = roc_curve(np.concatenate((np.ones_like(labels), np.zeros_like(open_set_scores))), np.concatenate((scores, open_set_scores)))\n",
    "open_set_roc_auc = auc(open_set_fpr, open_set_tpr)\n",
    "\n",
    "# 绘制ROC曲线\n",
    "import matplotlib.pyplot as plt\n",
    "plt.figure()\n",
    "plt.plot(fpr, tpr, color='darkorange', label='ROC curve (area = %0.2f)' % roc_auc)\n",
    "plt.plot(open_set_fpr, open_set_tpr, color='blue', linestyle='--', label='Open-set ROC curve (area = %0.2f)' % open_set_roc_auc)\n",
    "plt.plot([0, 1], [0, 1], color='navy', linestyle='--')\n",
    "plt.xlim([0.0, 1.0])\n",
    "plt.ylim([0.0, 1.05])\n",
    "plt.xlabel('False Positive Rate')\n",
    "plt.ylabel('True Positive Rate')\n",
    "plt.title('Receiver Operating Characteristic')\n",
    "plt.legend(loc=\"lower right\")\n",
    "plt.show()\n",
    "'''"
   ]
  },
  {
   "cell_type": "code",
   "execution_count": 25,
   "id": "dc9fa6a5",
   "metadata": {},
   "outputs": [
    {
     "data": {
      "image/png": "[encoded data removed]",
      "text/plain": [
       "<Figure size 640x480 with 1 Axes>"
      ]
     },
     "metadata": {},
     "output_type": "display_data"
    }
   ],
   "source": [
    "plt.xlabel('epoch')\n",
    "plt.ylabel('loss')\n",
    "plt.title(\"The change of loss under different epoches\")\n",
    "plt.plot(epoch_number, loss_record, linewidth=2,  marker='.')\n",
    "#plt.legend()\n",
    "plt.show()"
   ]
  },
  {
   "cell_type": "code",
   "execution_count": 26,
   "id": "e06a33cb",
   "metadata": {},
   "outputs": [
    {
     "data": {
      "image/png": "[encoded data removed]",
      "text/plain": [
       "<Figure size 640x480 with 1 Axes>"
      ]
     },
     "metadata": {},
     "output_type": "display_data"
    }
   ],
   "source": [
    "plt.xlabel('class')\n",
    "plt.ylabel('Accuracy')\n",
    "plt.title(\"The change of accuracy under different classess\")\n",
    "#plt.plot(class_number, class_acc, linewidth=2,  marker='.')\n",
    "plt.bar(class_number, class_acc)\n",
    "#plt.legend()\n",
    "plt.show()"
   ]
  },
  {
   "cell_type": "code",
   "execution_count": null,
   "id": "4584905c",
   "metadata": {},
   "outputs": [],
   "source": []
  }
 ],
 "metadata": {
  "kernelspec": {
   "display_name": "Python 3 (ipykernel)",
   "language": "python",
   "name": "python3"
  },
  "language_info": {
   "codemirror_mode": {
    "name": "ipython",
    "version": 3
   },
   "file_extension": ".py",
   "mimetype": "text/x-python",
   "name": "python",
   "nbconvert_exporter": "python",
   "pygments_lexer": "ipython3",
   "version": "3.9.13"
  }
 },
 "nbformat": 4,
 "nbformat_minor": 5
}
