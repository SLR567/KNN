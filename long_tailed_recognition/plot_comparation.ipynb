{
 "cells": [
  {
   "cell_type": "code",
   "execution_count": 1,
   "id": "651cfaa9",
   "metadata": {},
   "outputs": [],
   "source": [
    "import torch\n",
    "import torch.nn as nn\n",
    "import torch.optim as optim\n",
    "import torchvision\n",
    "import torchvision.transforms as transforms\n",
    "from torchvision.datasets import CIFAR10, FashionMNIST\n",
    "from torch.utils.data import DataLoader"
   ]
  },
  {
   "cell_type": "code",
   "execution_count": 2,
   "id": "0273065c",
   "metadata": {},
   "outputs": [
    {
     "name": "stdout",
     "output_type": "stream",
     "text": [
      "3.9.13 (main, Aug 25 2022, 23:26:10) \n",
      "[GCC 11.2.0]\n",
      "2.0.1\n"
     ]
    }
   ],
   "source": [
    "from __future__ import print_function, division\n",
    "import os, random, time, copy, scipy, pickle, sys, math\n",
    "from skimage import io, transform\n",
    "import numpy as np\n",
    "import os.path as path\n",
    "import scipy.io as sio\n",
    "from scipy import misc\n",
    "from scipy import ndimage, signal\n",
    "import matplotlib.pyplot as plt\n",
    "import PIL.Image\n",
    "from io import BytesIO\n",
    "from skimage import data, img_as_float\n",
    "\n",
    "import pandas as pd\n",
    "import seaborn as sn\n",
    "import sklearn.metrics \n",
    "from skimage.metrics import structural_similarity as ssim\n",
    "from skimage.metrics import peak_signal_noise_ratio as psnr\n",
    "from torch.utils.data import Dataset, DataLoader\n",
    "from torch.optim import lr_scheduler \n",
    "import torch.nn.functional as F\n",
    "from torch.autograd import Variable\n",
    "from torchvision import datasets, models, transforms\n",
    "\n",
    "from utils.eval_funcs import *\n",
    "from utils.dataset_CIFAR100LT import *\n",
    "from utils.network_arch_resnet import *\n",
    "from utils.trainval import *\n",
    "from utils.plot_funcs import *\n",
    "import warnings # ignore warnings\n",
    "warnings.filterwarnings(\"ignore\")\n",
    "print(sys.version)\n",
    "print(torch.__version__)"
   ]
  },
  {
   "cell_type": "code",
   "execution_count": 3,
   "id": "f5e2bc71",
   "metadata": {},
   "outputs": [],
   "source": [
    "classes=[]\n",
    "for i in range(100):\n",
    "    classes.append(i)"
   ]
  },
  {
   "cell_type": "code",
   "execution_count": 4,
   "id": "1bed224d",
   "metadata": {},
   "outputs": [
    {
     "data": {
      "text/plain": [
       "'\\ncnn_acc=[47.00,33.00,18.00,4.00,14.00,15.00,25.00,26.00,41.00,53.00,13.00,11.00,29.00,13.00,19.00,18.00,\\n         31.00,45.00,14.00,20.00,54.00,41.00,25.00,50.00,53.00,15.00,22.00,9.00,41.00,26.00,22.00,34.00,\\n         16.00,19.00,20.00,14.00,17.00,16.00,12.00,25.00,27.00,48.00,20.00,24.00,6.00,9.00,10.00,38.00,\\n         46.00,37.00,9.00,12.00,39.00,65.00,32.00,4.00,40.00,29.00,24.00,11.00,48.00,48.00,43.00,18.00,\\n         7.00,9.00,9.00,12.00,62.00,50.00,22.00,43.00,3.00,32.00,23.00,42.00,33.00,11.00,16.00,22.00,\\n         9.00,27.00,52.00,29.00,14.00,29.00,39.00,33.00,17.00,21.00,14.00,34.00,14.00,17.00,55.00,23.00,\\n         25.00,28.00,22.00,12.00]\\n'"
      ]
     },
     "execution_count": 4,
     "metadata": {},
     "output_type": "execute_result"
    }
   ],
   "source": [
    "'''\n",
    "cnn_acc=[47.00,33.00,18.00,4.00,14.00,15.00,25.00,26.00,41.00,53.00,13.00,11.00,29.00,13.00,19.00,18.00,\n",
    "         31.00,45.00,14.00,20.00,54.00,41.00,25.00,50.00,53.00,15.00,22.00,9.00,41.00,26.00,22.00,34.00,\n",
    "         16.00,19.00,20.00,14.00,17.00,16.00,12.00,25.00,27.00,48.00,20.00,24.00,6.00,9.00,10.00,38.00,\n",
    "         46.00,37.00,9.00,12.00,39.00,65.00,32.00,4.00,40.00,29.00,24.00,11.00,48.00,48.00,43.00,18.00,\n",
    "         7.00,9.00,9.00,12.00,62.00,50.00,22.00,43.00,3.00,32.00,23.00,42.00,33.00,11.00,16.00,22.00,\n",
    "         9.00,27.00,52.00,29.00,14.00,29.00,39.00,33.00,17.00,21.00,14.00,34.00,14.00,17.00,55.00,23.00,\n",
    "         25.00,28.00,22.00,12.00]\n",
    "'''"
   ]
  },
  {
   "cell_type": "code",
   "execution_count": 5,
   "id": "3be81049",
   "metadata": {},
   "outputs": [],
   "source": [
    "cnn_acc=[]"
   ]
  },
  {
   "cell_type": "code",
   "execution_count": 6,
   "id": "d7f0834a",
   "metadata": {},
   "outputs": [],
   "source": [
    "resnet18_acc=[]"
   ]
  },
  {
   "cell_type": "code",
   "execution_count": 7,
   "id": "037b605c",
   "metadata": {},
   "outputs": [],
   "source": [
    "resnet50_acc=[]"
   ]
  },
  {
   "cell_type": "code",
   "execution_count": 8,
   "id": "59d7facc",
   "metadata": {},
   "outputs": [],
   "source": [
    "resnet18_moreEpoches_acc=[]"
   ]
  },
  {
   "cell_type": "code",
   "execution_count": 9,
   "id": "7dcced1b",
   "metadata": {},
   "outputs": [],
   "source": [
    "resnet18_none_acc=[]"
   ]
  },
  {
   "cell_type": "code",
   "execution_count": 10,
   "id": "95019bfc",
   "metadata": {},
   "outputs": [
    {
     "name": "stdout",
     "output_type": "stream",
     "text": [
      "[47.0, 33.0, 18.0, 4.0, 14.0, 15.0, 25.0, 26.0, 41.0, 53.0, 13.0, 11.0, 29.0, 13.0, 19.0, 18.0, 31.0, 45.0, 14.0, 20.0, 54.0, 41.0, 25.0, 50.0, 53.0, 15.0, 22.0, 9.0, 41.0, 26.0, 22.0, 34.0, 16.0, 19.0, 20.0, 14.0, 17.0, 16.0, 12.0, 25.0, 27.0, 48.0, 20.0, 24.0, 6.0, 9.0, 10.0, 38.0, 46.0, 37.0, 9.0, 12.0, 39.0, 65.0, 32.0, 4.0, 40.0, 29.0, 24.0, 11.0, 48.0, 48.0, 43.0, 18.0, 7.0, 9.0, 9.0, 12.0, 62.0, 50.0, 22.0, 43.0, 3.0, 32.0, 23.0, 42.0, 33.0, 11.0, 16.0, 22.0, 9.0, 27.0, 52.0, 29.0, 14.0, 29.0, 39.0, 33.0, 17.0, 21.0, 14.0, 34.0, 14.0, 17.0, 55.0, 23.0, 25.0, 28.0, 22.0, 12.0]\n"
     ]
    }
   ],
   "source": [
    "import re\n",
    "with open(\"cnn.txt\", \"r\") as file:\n",
    "    input_data = file.read()\n",
    "# Split the input string by \"Accuracy of class\"\n",
    "data = input_data.split(\"Accuracy of class\")\n",
    "\n",
    "# Create a dictionary to store the accuracies\n",
    "accuracies = {}\n",
    "\n",
    "# Loop through the data and extract the class and accuracy\n",
    "for entry in data[1:]:\n",
    "    match = re.search(r\"(\\d+):\\s(\\d+\\.\\d+)%\", entry)\n",
    "    class_num = match.group(1)\n",
    "    accuracy = match.group(2)\n",
    "    accuracies[class_num] = float(accuracy)\n",
    "\n",
    "# Print the accuracies\n",
    "for class_num, accuracy in accuracies.items():\n",
    "    #print(f\"Class {class_num}: {accuracy}%\")\n",
    "    cnn_acc.append(accuracy)\n",
    "    \n",
    "    \n",
    "print(cnn_acc)"
   ]
  },
  {
   "cell_type": "code",
   "execution_count": 11,
   "id": "341cd8a8",
   "metadata": {},
   "outputs": [
    {
     "name": "stdout",
     "output_type": "stream",
     "text": [
      "[81.0, 73.0, 41.0, 24.0, 36.0, 60.0, 59.0, 58.0, 69.0, 68.0, 38.0, 31.0, 65.0, 35.0, 52.0, 48.0, 59.0, 70.0, 52.0, 48.0, 79.0, 73.0, 50.0, 82.0, 74.0, 44.0, 50.0, 38.0, 71.0, 51.0, 56.0, 54.0, 42.0, 51.0, 56.0, 27.0, 57.0, 44.0, 40.0, 86.0, 54.0, 68.0, 52.0, 67.0, 28.0, 34.0, 32.0, 53.0, 84.0, 73.0, 34.0, 58.0, 63.0, 84.0, 59.0, 26.0, 79.0, 61.0, 58.0, 48.0, 80.0, 65.0, 70.0, 53.0, 33.0, 35.0, 36.0, 47.0, 85.0, 81.0, 62.0, 67.0, 18.0, 44.0, 39.0, 85.0, 90.0, 47.0, 53.0, 62.0, 29.0, 54.0, 79.0, 50.0, 40.0, 68.0, 65.0, 64.0, 52.0, 55.0, 59.0, 66.0, 47.0, 30.0, 87.0, 61.0, 49.0, 60.0, 27.0, 72.0]\n"
     ]
    }
   ],
   "source": [
    "import re\n",
    "with open(\"resnet18_none.txt\", \"r\") as file:\n",
    "    input_data = file.read()\n",
    "# Split the input string by \"Accuracy of class\"\n",
    "data = input_data.split(\"Accuracy of class\")\n",
    "\n",
    "# Create a dictionary to store the accuracies\n",
    "accuracies = {}\n",
    "\n",
    "# Loop through the data and extract the class and accuracy\n",
    "for entry in data[1:]:\n",
    "    match = re.search(r\"(\\d+):\\s(\\d+\\.\\d+)%\", entry)\n",
    "    class_num = match.group(1)\n",
    "    accuracy = match.group(2)\n",
    "    accuracies[class_num] = float(accuracy)\n",
    "\n",
    "# Print the accuracies\n",
    "for class_num, accuracy in accuracies.items():\n",
    "    #print(f\"Class {class_num}: {accuracy}%\")\n",
    "    resnet18_none_acc.append(accuracy)\n",
    "    \n",
    "    \n",
    "print(resnet18_none_acc)"
   ]
  },
  {
   "cell_type": "code",
   "execution_count": 12,
   "id": "1e867fc7",
   "metadata": {},
   "outputs": [
    {
     "name": "stdout",
     "output_type": "stream",
     "text": [
      "[90.0, 81.0, 54.0, 46.0, 48.0, 72.0, 68.0, 70.0, 76.0, 74.0, 42.0, 35.0, 67.0, 50.0, 58.0, 54.0, 64.0, 76.0, 48.0, 42.0, 84.0, 72.0, 52.0, 79.0, 77.0, 36.0, 49.0, 31.0, 67.0, 48.0, 52.0, 44.0, 35.0, 48.0, 49.0, 24.0, 47.0, 40.0, 36.0, 75.0, 41.0, 70.0, 47.0, 60.0, 16.0, 29.0, 36.0, 60.0, 75.0, 64.0, 25.0, 43.0, 59.0, 75.0, 54.0, 15.0, 68.0, 48.0, 54.0, 43.0, 65.0, 53.0, 55.0, 38.0, 21.0, 23.0, 31.0, 31.0, 71.0, 68.0, 30.0, 66.0, 14.0, 38.0, 16.0, 61.0, 73.0, 29.0, 40.0, 49.0, 20.0, 45.0, 65.0, 35.0, 31.0, 65.0, 52.0, 63.0, 40.0, 42.0, 46.0, 59.0, 29.0, 23.0, 81.0, 48.0, 31.0, 40.0, 21.0, 57.0]\n"
     ]
    }
   ],
   "source": [
    "import re\n",
    "with open(\"resnet18.txt\", \"r\") as file:\n",
    "    input_data = file.read()\n",
    "# Split the input string by \"Accuracy of class\"\n",
    "data = input_data.split(\"Accuracy of class\")\n",
    "\n",
    "# Create a dictionary to store the accuracies\n",
    "accuracies = {}\n",
    "\n",
    "# Loop through the data and extract the class and accuracy\n",
    "for entry in data[1:]:\n",
    "    match = re.search(r\"(\\d+):\\s(\\d+\\.\\d+)%\", entry)\n",
    "    class_num = match.group(1)\n",
    "    accuracy = match.group(2)\n",
    "    accuracies[class_num] = float(accuracy)\n",
    "\n",
    "# Print the accuracies\n",
    "for class_num, accuracy in accuracies.items():\n",
    "    #print(f\"Class {class_num}: {accuracy}%\")\n",
    "    resnet18_acc.append(accuracy)\n",
    "    \n",
    "    \n",
    "print(resnet18_acc)"
   ]
  },
  {
   "cell_type": "code",
   "execution_count": 13,
   "id": "2321796c",
   "metadata": {},
   "outputs": [
    {
     "name": "stdout",
     "output_type": "stream",
     "text": [
      "[92.0, 87.0, 62.0, 52.0, 51.0, 73.0, 70.0, 68.0, 84.0, 77.0, 57.0, 40.0, 73.0, 63.0, 65.0, 51.0, 64.0, 77.0, 55.0, 45.0, 87.0, 78.0, 60.0, 81.0, 75.0, 41.0, 48.0, 45.0, 76.0, 54.0, 57.0, 50.0, 52.0, 49.0, 46.0, 21.0, 60.0, 38.0, 37.0, 76.0, 48.0, 70.0, 52.0, 61.0, 22.0, 30.0, 21.0, 58.0, 82.0, 62.0, 25.0, 48.0, 56.0, 80.0, 57.0, 16.0, 65.0, 50.0, 63.0, 55.0, 77.0, 50.0, 53.0, 41.0, 24.0, 30.0, 39.0, 23.0, 69.0, 67.0, 48.0, 62.0, 15.0, 42.0, 30.0, 66.0, 73.0, 31.0, 44.0, 46.0, 22.0, 44.0, 68.0, 41.0, 32.0, 52.0, 56.0, 59.0, 47.0, 46.0, 37.0, 58.0, 32.0, 23.0, 82.0, 51.0, 41.0, 46.0, 33.0, 57.0]\n"
     ]
    }
   ],
   "source": [
    "import re\n",
    "with open(\"resnet50.txt\", \"r\") as file:\n",
    "    input_data = file.read()\n",
    "# Split the input string by \"Accuracy of class\"\n",
    "data = input_data.split(\"Accuracy of class\")\n",
    "\n",
    "# Create a dictionary to store the accuracies\n",
    "accuracies = {}\n",
    "\n",
    "# Loop through the data and extract the class and accuracy\n",
    "for entry in data[1:]:\n",
    "    match = re.search(r\"(\\d+):\\s(\\d+\\.\\d+)%\", entry)\n",
    "    class_num = match.group(1)\n",
    "    accuracy = match.group(2)\n",
    "    accuracies[class_num] = float(accuracy)\n",
    "\n",
    "# Print the accuracies\n",
    "for class_num, accuracy in accuracies.items():\n",
    "    #print(f\"Class {class_num}: {accuracy}%\")\n",
    "    resnet50_acc.append(accuracy)\n",
    "    \n",
    "    \n",
    "print(resnet50_acc)"
   ]
  },
  {
   "cell_type": "code",
   "execution_count": 14,
   "id": "0857b714",
   "metadata": {},
   "outputs": [
    {
     "name": "stdout",
     "output_type": "stream",
     "text": [
      "[86.0, 80.0, 55.0, 52.0, 54.0, 68.0, 64.0, 70.0, 74.0, 68.0, 39.0, 36.0, 64.0, 54.0, 62.0, 50.0, 60.0, 73.0, 56.0, 48.0, 82.0, 75.0, 57.0, 79.0, 73.0, 41.0, 45.0, 32.0, 71.0, 45.0, 55.0, 56.0, 42.0, 45.0, 44.0, 26.0, 45.0, 46.0, 40.0, 80.0, 45.0, 67.0, 48.0, 63.0, 26.0, 28.0, 27.0, 47.0, 76.0, 61.0, 18.0, 44.0, 62.0, 86.0, 61.0, 20.0, 68.0, 51.0, 57.0, 41.0, 69.0, 56.0, 48.0, 41.0, 21.0, 36.0, 31.0, 38.0, 72.0, 67.0, 50.0, 55.0, 18.0, 38.0, 27.0, 63.0, 73.0, 36.0, 32.0, 40.0, 24.0, 43.0, 66.0, 40.0, 32.0, 54.0, 48.0, 63.0, 45.0, 53.0, 49.0, 54.0, 42.0, 15.0, 79.0, 51.0, 45.0, 40.0, 29.0, 58.0]\n"
     ]
    }
   ],
   "source": [
    "import re\n",
    "with open(\"resnet18_moreEpoches.txt\", \"r\") as file:\n",
    "    input_data = file.read()\n",
    "# Split the input string by \"Accuracy of class\"\n",
    "data = input_data.split(\"Accuracy of class\")\n",
    "\n",
    "# Create a dictionary to store the accuracies\n",
    "accuracies = {}\n",
    "\n",
    "# Loop through the data and extract the class and accuracy\n",
    "for entry in data[1:]:\n",
    "    match = re.search(r\"(\\d+):\\s(\\d+\\.\\d+)%\", entry)\n",
    "    class_num = match.group(1)\n",
    "    accuracy = match.group(2)\n",
    "    accuracies[class_num] = float(accuracy)\n",
    "\n",
    "# Print the accuracies\n",
    "for class_num, accuracy in accuracies.items():\n",
    "    #print(f\"Class {class_num}: {accuracy}%\")\n",
    "    resnet18_moreEpoches_acc.append(accuracy)\n",
    "    \n",
    "    \n",
    "print(resnet18_moreEpoches_acc)"
   ]
  },
  {
   "cell_type": "code",
   "execution_count": 15,
   "id": "bbf7fa22",
   "metadata": {},
   "outputs": [
    {
     "data": {
      "image/png": "[encoded data removed]",
      "text/plain": [
       "<Figure size 640x480 with 1 Axes>"
      ]
     },
     "metadata": {},
     "output_type": "display_data"
    }
   ],
   "source": [
    "plt.xlabel('class')\n",
    "plt.ylabel('Accuracy')\n",
    "#plt.title(\"The change of accuracy under different classess\")\n",
    "#plt.plot(class_number, class_acc, linewidth=2,  marker='.')\n",
    "\n",
    "plt.bar(classes, resnet50_acc,label=\"ResNet50\")\n",
    "plt.bar(classes, resnet18_acc,label=\"ResNet18\")\n",
    "plt.bar(classes, cnn_acc,label=\"CNN\")\n",
    "\n",
    "plt.yticks([0, 10, 20, 30, 40, 50,60,70,80,90]) \n",
    "#plt.gca().invert_yaxis() \n",
    "plt.legend()\n",
    "plt.show()"
   ]
  },
  {
   "cell_type": "code",
   "execution_count": 16,
   "id": "f9cefd87",
   "metadata": {},
   "outputs": [
    {
     "data": {
      "image/png": "[encoded data removed]",
      "text/plain": [
       "<Figure size 640x480 with 1 Axes>"
      ]
     },
     "metadata": {},
     "output_type": "display_data"
    }
   ],
   "source": [
    "plt.xlabel('class')\n",
    "plt.ylabel('Accuracy')\n",
    "#plt.title(\"The change of accuracy under different classess\")\n",
    "#plt.plot(class_number, class_acc, linewidth=2,  marker='.')\n",
    "plt.bar(classes, resnet18_moreEpoches_acc,label=\"ResNet18 with more epoches\")\n",
    "plt.bar(classes, resnet18_acc,label=\"ResNet18\")\n",
    "\n",
    "\n",
    "plt.yticks([0, 10, 20, 30, 40, 50,60,70,80,90]) \n",
    "#plt.gca().invert_yaxis() \n",
    "plt.legend()\n",
    "plt.show()"
   ]
  },
  {
   "cell_type": "code",
   "execution_count": 17,
   "id": "4b16dd0d",
   "metadata": {},
   "outputs": [
    {
     "data": {
      "image/png": "[encoded data removed]",
      "text/plain": [
       "<Figure size 640x480 with 1 Axes>"
      ]
     },
     "metadata": {},
     "output_type": "display_data"
    }
   ],
   "source": [
    "plt.xlabel('class')\n",
    "plt.ylabel('Accuracy')\n",
    "#plt.title(\"The change of accuracy under different classess\")\n",
    "#plt.plot(class_number, class_acc, linewidth=2,  marker='.')\n",
    "plt.bar(classes, resnet18_none_acc,label=\"ResNet18 without long-tailed dataset\")\n",
    "plt.bar(classes, resnet18_acc,label=\"ResNet18\")\n",
    "\n",
    "\n",
    "plt.yticks([0, 10, 20, 30, 40, 50,60,70,80,90]) \n",
    "#plt.gca().invert_yaxis() \n",
    "plt.legend()\n",
    "plt.show()"
   ]
  },
  {
   "cell_type": "code",
   "execution_count": null,
   "id": "d75f22ad",
   "metadata": {},
   "outputs": [],
   "source": []
  },
  {
   "cell_type": "code",
   "execution_count": null,
   "id": "1d90dee0",
   "metadata": {},
   "outputs": [],
   "source": []
  },
  {
   "cell_type": "code",
   "execution_count": null,
   "id": "7e548444",
   "metadata": {},
   "outputs": [],
   "source": []
  },
  {
   "cell_type": "code",
   "execution_count": null,
   "id": "7d254aa1",
   "metadata": {},
   "outputs": [],
   "source": []
  },
  {
   "cell_type": "code",
   "execution_count": null,
   "id": "4584905c",
   "metadata": {},
   "outputs": [],
   "source": []
  }
 ],
 "metadata": {
  "kernelspec": {
   "display_name": "Python 3 (ipykernel)",
   "language": "python",
   "name": "python3"
  },
  "language_info": {
   "codemirror_mode": {
    "name": "ipython",
    "version": 3
   },
   "file_extension": ".py",
   "mimetype": "text/x-python",
   "name": "python",
   "nbconvert_exporter": "python",
   "pygments_lexer": "ipython3",
   "version": "3.9.13"
  }
 },
 "nbformat": 4,
 "nbformat_minor": 5
}
