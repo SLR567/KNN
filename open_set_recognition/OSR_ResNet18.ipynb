{
 "cells": [
  {
   "cell_type": "code",
   "execution_count": 1,
   "id": "9486ebaa",
   "metadata": {},
   "outputs": [
    {
     "name": "stderr",
     "output_type": "stream",
     "text": [
      "/home/ubuntu-user/anaconda3/lib/python3.9/site-packages/torchvision/io/image.py:13: UserWarning: Failed to load image Python extension: libtorch_cuda_cu.so: cannot open shared object file: No such file or directory\n",
      "  warn(f\"Failed to load image Python extension: {e}\")\n"
     ]
    }
   ],
   "source": [
    "import torch\n",
    "import torch.nn as nn\n",
    "import torch.optim as optim\n",
    "import torchvision\n",
    "import torchvision.transforms as transforms\n",
    "from torchvision.datasets import CIFAR10, FashionMNIST\n",
    "from torch.utils.data import DataLoader"
   ]
  },
  {
   "cell_type": "code",
   "execution_count": 2,
   "id": "262c1788",
   "metadata": {},
   "outputs": [],
   "source": [
    "# 定义深度卷积神经网络模型\n",
    "class Model(nn.Module):\n",
    "    def __init__(self, num_classes):\n",
    "        super(Model, self).__init__()\n",
    "        self.features = nn.Sequential(\n",
    "            nn.Conv2d(3, 32, kernel_size=3, stride=1, padding=1),\n",
    "            nn.ReLU(),\n",
    "            nn.Conv2d(32, 64, kernel_size=3, stride=1, padding=1),\n",
    "            nn.ReLU(),\n",
    "            nn.MaxPool2d(kernel_size=2, stride=2)\n",
    "        )\n",
    "        self.classifier = nn.Sequential(\n",
    "            #nn.Linear(64 * 16 * 16, 128),\n",
    "            nn.Linear(64 * 16 * 16, 128),\n",
    "            nn.ReLU(),\n",
    "            nn.Linear(128, num_classes)\n",
    "        )\n",
    "        self.classifier1 = nn.Sequential(\n",
    "            #nn.Linear(64 * 16 * 16, 128),\n",
    "            nn.Linear(64 * 14 * 14, 128),\n",
    "            nn.ReLU(),\n",
    "            nn.Linear(128, num_classes)\n",
    "        )\n",
    "        self.unknown_class = num_classes\n",
    "\n",
    "    def forward(self, x):\n",
    "        x = self.features(x)\n",
    "        x = x.view(x.size(0), -1)\n",
    "        x = self.classifier(x)\n",
    "        return x\n",
    "\n",
    "    def open_set_forward(self, x, known_classes):\n",
    "        x = self.features(x)\n",
    "        #print(x.shape) \n",
    "        x = x.view(x.size(0), -1)\n",
    "        #print(x.shape) \n",
    "        logits = self.classifier1(x)\n",
    "\n",
    "        # 计算每个样本的开放集得分\n",
    "        open_scores = torch.softmax(logits[:, known_classes], dim=1)\n",
    "\n",
    "        # 添加未知类别得分\n",
    "        unknown_scores = torch.zeros(x.size(0), 1).to(x.device)\n",
    "        open_scores = torch.cat((open_scores, unknown_scores), dim=1)\n",
    "\n",
    "        return open_scores"
   ]
  },
  {
   "cell_type": "code",
   "execution_count": 3,
   "id": "6090f47c",
   "metadata": {},
   "outputs": [],
   "source": [
    "epoch_number=[]\n",
    "loss_record=[]"
   ]
  },
  {
   "cell_type": "code",
   "execution_count": 4,
   "id": "4e3bc8e1",
   "metadata": {},
   "outputs": [],
   "source": [
    "class_number=[]\n",
    "class_acc=[]"
   ]
  },
  {
   "cell_type": "code",
   "execution_count": 5,
   "id": "bcf64ef8",
   "metadata": {},
   "outputs": [],
   "source": [
    "# 训练闭集模型\n",
    "def train(model, train_loader, criterion, optimizer, num_epochs):\n",
    "    model.train()\n",
    "    for epoch in range(num_epochs):\n",
    "        epoch_number.append(epoch)\n",
    "        running_loss = 0.0\n",
    "        for i, (images, labels) in enumerate(train_loader):\n",
    "            images = images.to(device)\n",
    "            labels = labels.to(device)\n",
    "\n",
    "            optimizer.zero_grad()\n",
    "\n",
    "            outputs = model(images)\n",
    "            loss = criterion(outputs, labels)\n",
    "            loss.backward()\n",
    "            optimizer.step()\n",
    "\n",
    "            running_loss += loss.item()\n",
    "\n",
    "        loss_record.append(running_loss / len(train_loader))\n",
    "        print(f\"Epoch [{epoch+1}/{num_epochs}], Loss: {running_loss / len(train_loader)}\")"
   ]
  },
  {
   "cell_type": "code",
   "execution_count": 6,
   "id": "6756b7e6",
   "metadata": {},
   "outputs": [],
   "source": [
    "# 测试开放集识别\n",
    "def test(model, test_loader, known_classes):\n",
    "    model.eval()\n",
    "    correct = 0\n",
    "    total = 0\n",
    "    with torch.no_grad():\n",
    "        for images, labels in test_loader:\n",
    "            images = images.to(device)\n",
    "            labels = labels.to(device)\n",
    "\n",
    "            open_scores = model.open_set_forward(images, known_classes)\n",
    "            _, predicted = torch.max(open_scores.data, 1)\n",
    "\n",
    "            total += labels.size(0)\n",
    "            correct += (predicted == labels).sum().item()\n",
    "\n",
    "    accuracy = 100.0 * correct / total\n",
    "    print(f\"Test Accuracy: {accuracy}%\")"
   ]
  },
  {
   "cell_type": "code",
   "execution_count": 7,
   "id": "66d836e2",
   "metadata": {},
   "outputs": [],
   "source": [
    "# 设置随机种子和设备\n",
    "torch.manual_seed(2024)\n",
    "#device = torch.device(\"cuda\" if torch.cuda.is_available() else \"cpu\")\n",
    "device = torch.device(\"cpu\")\n"
   ]
  },
  {
   "cell_type": "code",
   "execution_count": 8,
   "id": "c2903b97",
   "metadata": {},
   "outputs": [
    {
     "data": {
      "text/plain": [
       "'\\ntransform = transforms.Compose([\\n    transforms.ToTensor(),\\n    transforms.Resize((32, 32)),\\n    transforms.Normalize((0.5, 0.5, 0.5), (0.5, 0.5, 0.5))\\n])\\n'"
      ]
     },
     "execution_count": 8,
     "metadata": {},
     "output_type": "execute_result"
    }
   ],
   "source": [
    "# 数据预处理和加载器\n",
    "'''\n",
    "transform = transforms.Compose([\n",
    "    transforms.ToTensor(),\n",
    "    transforms.Resize((32, 32)),\n",
    "    transforms.Normalize((0.5, 0.5, 0.5), (0.5, 0.5, 0.5))\n",
    "])\n",
    "'''"
   ]
  },
  {
   "cell_type": "code",
   "execution_count": 9,
   "id": "676dd70e",
   "metadata": {},
   "outputs": [],
   "source": [
    "\n",
    "# Define the transformations for CIFAR10\n",
    "transform_cifar = transforms.Compose([\n",
    "    transforms.ToTensor(),\n",
    "    transforms.Resize((32, 32)),\n",
    "    transforms.Normalize((0.5, 0.5, 0.5), (0.5, 0.5, 0.5))\n",
    "])\n"
   ]
  },
  {
   "cell_type": "code",
   "execution_count": 10,
   "id": "5f68d4f6",
   "metadata": {},
   "outputs": [],
   "source": [
    "# Define the transformations for MNIST\n",
    "transform_mnist = transforms.Compose([\n",
    "    transforms.Grayscale(num_output_channels=3),\n",
    "    transforms.ToTensor(),\n",
    "    transforms.Resize((32, 32)),\n",
    "    transforms.Normalize((0.5, 0.5, 0.5), (0.5, 0.5, 0.5))\n",
    "])"
   ]
  },
  {
   "cell_type": "code",
   "execution_count": 11,
   "id": "e8632e58",
   "metadata": {},
   "outputs": [
    {
     "name": "stdout",
     "output_type": "stream",
     "text": [
      "Files already downloaded and verified\n"
     ]
    }
   ],
   "source": [
    "train_dataset = torchvision.datasets.CIFAR10(root='data', train=True, download=True, transform=transform_cifar)\n",
    "train_loader = DataLoader(train_dataset, batch_size=64, shuffle=True, num_workers=2)"
   ]
  },
  {
   "cell_type": "code",
   "execution_count": 12,
   "id": "c9775a2e",
   "metadata": {},
   "outputs": [
    {
     "name": "stdout",
     "output_type": "stream",
     "text": [
      "Files already downloaded and verified\n"
     ]
    }
   ],
   "source": [
    "# 加载CIFAR10测试集\n",
    "testset = torchvision.datasets.CIFAR10(root='data', train=False,\n",
    "                                       download=True, transform=transform_cifar)\n",
    "testloader = DataLoader(testset, batch_size=64,\n",
    "                                         shuffle=False, num_workers=2)\n"
   ]
  },
  {
   "cell_type": "code",
   "execution_count": 13,
   "id": "b9f89fe3",
   "metadata": {},
   "outputs": [],
   "source": [
    "test_dataset = torchvision.datasets.FashionMNIST(root='data', train=False, download=True, transform=transform_mnist)\n",
    "test_loader = DataLoader(test_dataset, batch_size=64, shuffle=False, num_workers=2)\n"
   ]
  },
  {
   "cell_type": "code",
   "execution_count": 14,
   "id": "a223b5f2",
   "metadata": {},
   "outputs": [
    {
     "data": {
      "text/plain": [
       "'\\nmodel = Model(num_classes).to(device)\\ncriterion = nn.CrossEntropyLoss()\\noptimizer = optim.Adam(model.parameters())\\n'"
      ]
     },
     "execution_count": 14,
     "metadata": {},
     "output_type": "execute_result"
    }
   ],
   "source": [
    "# 初始化模型、损失函数和优化器\n",
    "num_classes = 10  # 已知类别数量\n",
    "'''\n",
    "model = Model(num_classes).to(device)\n",
    "criterion = nn.CrossEntropyLoss()\n",
    "optimizer = optim.Adam(model.parameters())\n",
    "'''\n"
   ]
  },
  {
   "cell_type": "code",
   "execution_count": 15,
   "id": "ce28888b",
   "metadata": {},
   "outputs": [
    {
     "name": "stderr",
     "output_type": "stream",
     "text": [
      "/home/ubuntu-user/anaconda3/lib/python3.9/site-packages/torchvision/models/_utils.py:208: UserWarning: The parameter 'pretrained' is deprecated since 0.13 and may be removed in the future, please use 'weights' instead.\n",
      "  warnings.warn(\n",
      "/home/ubuntu-user/anaconda3/lib/python3.9/site-packages/torchvision/models/_utils.py:223: UserWarning: Arguments other than a weight enum or `None` for 'weights' are deprecated since 0.13 and may be removed in the future. The current behavior is equivalent to passing `weights=ResNet18_Weights.IMAGENET1K_V1`. You can also use `weights=ResNet18_Weights.DEFAULT` to get the most up-to-date weights.\n",
      "  warnings.warn(msg)\n"
     ]
    }
   ],
   "source": [
    "import torch\n",
    "import torch.nn as nn\n",
    "import torch.optim as optim\n",
    "import torchvision.models as models\n",
    "\n",
    "# 加载预训练的ResNet18模型\n",
    "model = models.resnet18(pretrained=True)\n",
    "num_ftrs = model.fc.in_features\n",
    "model.fc = nn.Linear(num_ftrs, 10)\n",
    "\n",
    "# 定义损失函数和优化器\n",
    "criterion = nn.CrossEntropyLoss()\n",
    "optimizer = optim.SGD(model.parameters(), lr=0.001, momentum=0.9)\n"
   ]
  },
  {
   "cell_type": "code",
   "execution_count": null,
   "id": "1a8e3f5c",
   "metadata": {},
   "outputs": [
    {
     "name": "stdout",
     "output_type": "stream",
     "text": [
      "Epoch [1/10], Loss: 1.0360290232064473\n",
      "Epoch [2/10], Loss: 0.6318752801479282\n",
      "Epoch [3/10], Loss: 0.4783939341526202\n",
      "Epoch [4/10], Loss: 0.3774367943215553\n",
      "Epoch [5/10], Loss: 0.28748140018195145\n",
      "Epoch [6/10], Loss: 0.22495719534166328\n",
      "Epoch [7/10], Loss: 0.17330804607495093\n",
      "Epoch [8/10], Loss: 0.1474898133612693\n",
      "Epoch [9/10], Loss: 0.11830203011250862\n"
     ]
    }
   ],
   "source": [
    "# 训练模型\n",
    "train(model, train_loader, criterion, optimizer, num_epochs=10)"
   ]
  },
  {
   "cell_type": "code",
   "execution_count": null,
   "id": "92804297",
   "metadata": {},
   "outputs": [],
   "source": [
    "\n",
    "class_correct = [0] * 10\n",
    "class_total = [0] * 10\n",
    "\n",
    "with torch.no_grad():\n",
    "    for data in testloader:\n",
    "        images, labels = data\n",
    "        outputs = model(images)\n",
    "        _, predicted = torch.max(outputs, 1)\n",
    "        c = (predicted == labels).squeeze()\n",
    "        for i in range(len(labels)):\n",
    "            label = labels[i]\n",
    "            class_correct[label] += c[i].item()\n",
    "            class_total[label] += 1\n",
    "\n",
    "for i in range(10):\n",
    "    class_number.append(i)\n",
    "    accuracy = 100 * class_correct[i] / class_total[i]\n",
    "    class_acc.append(accuracy)\n",
    "    print(f'Accuracy of class {i}: {accuracy:.2f}%')"
   ]
  },
  {
   "cell_type": "code",
   "execution_count": null,
   "id": "6dad5e12",
   "metadata": {},
   "outputs": [],
   "source": [
    "import numpy as np\n",
    "from sklearn.metrics import roc_curve, auc\n",
    "\n",
    "# 计算开放集似然性\n",
    "def calculate_open_set_likelihood(testloader, open_set_loader):\n",
    "    model.eval()\n",
    "    softmax = nn.Softmax(dim=1)\n",
    "\n",
    "    scores = []\n",
    "    labels = []\n",
    "\n",
    "    with torch.no_grad():\n",
    "        for data in testloader:\n",
    "            images, true_labels = data\n",
    "            outputs = model(images)\n",
    "            probabilities = softmax(outputs)\n",
    "            max_probabilities, _ = torch.max(probabilities, 1)\n",
    "            scores.extend(max_probabilities.cpu().numpy())\n",
    "            labels.extend(true_labels.cpu().numpy())\n",
    "\n",
    "    open_set_scores = []\n",
    "\n",
    "    with torch.no_grad():\n",
    "        for data in open_set_loader:\n",
    "            images, _ = data\n",
    "            outputs = model(images)\n",
    "            probabilities = softmax(outputs)\n",
    "            max_probabilities, _ = torch.max(probabilities, 1)\n",
    "            open_set_scores.extend(max_probabilities.cpu().numpy())\n",
    "\n",
    "    return np.array(scores), np.array(open_set_scores), np.array(labels)\n",
    "\n",
    "# 计算似然性并绘制ROC曲线\n",
    "scores, open_set_scores, labels = calculate_open_set_likelihood(testloader, test_loader)\n",
    "\n",
    "fpr, tpr, thresholds = roc_curve(labels, scores, pos_label=1)\n",
    "roc_auc = auc(fpr, tpr)\n",
    "\n",
    "open_set_fpr, open_set_tpr, _ = roc_curve(np.concatenate((np.ones_like(labels), np.zeros_like(open_set_scores))), np.concatenate((scores, open_set_scores)))\n",
    "open_set_roc_auc = auc(open_set_fpr, open_set_tpr)\n",
    "\n",
    "# 绘制ROC曲线\n",
    "import matplotlib.pyplot as plt\n",
    "plt.figure()\n",
    "plt.plot(fpr, tpr, color='darkorange', label='ROC curve (area = %0.2f)' % roc_auc)\n",
    "plt.plot(open_set_fpr, open_set_tpr, color='blue', linestyle='--', label='Open-set ROC curve (area = %0.2f)' % open_set_roc_auc)\n",
    "plt.plot([0, 1], [0, 1], color='navy', linestyle='--')\n",
    "plt.xlim([0.0, 1.0])\n",
    "plt.ylim([0.0, 1.05])\n",
    "plt.xlabel('False Positive Rate')\n",
    "plt.ylabel('True Positive Rate')\n",
    "plt.title('Receiver Operating Characteristic')\n",
    "plt.legend(loc=\"lower right\")\n",
    "plt.show()"
   ]
  },
  {
   "cell_type": "code",
   "execution_count": null,
   "id": "dd84d2ea",
   "metadata": {},
   "outputs": [],
   "source": [
    "plt.xlabel('epoch')\n",
    "plt.ylabel('loss')\n",
    "plt.title(\"The change of loss under different epoches\")\n",
    "plt.plot(epoch_number, loss_record, linewidth=2,  marker='.')\n",
    "#plt.legend()\n",
    "plt.show()"
   ]
  },
  {
   "cell_type": "code",
   "execution_count": null,
   "id": "98e23806",
   "metadata": {},
   "outputs": [],
   "source": [
    "plt.xlabel('class')\n",
    "plt.ylabel('Accuracy')\n",
    "plt.title(\"The change of accuracy under different classess\")\n",
    "plt.plot(class_number, class_acc, linewidth=2,  marker='.')\n",
    "#plt.legend()\n",
    "plt.show()"
   ]
  }
 ],
 "metadata": {
  "kernelspec": {
   "display_name": "Python 3 (ipykernel)",
   "language": "python",
   "name": "python3"
  },
  "language_info": {
   "codemirror_mode": {
    "name": "ipython",
    "version": 3
   },
   "file_extension": ".py",
   "mimetype": "text/x-python",
   "name": "python",
   "nbconvert_exporter": "python",
   "pygments_lexer": "ipython3",
   "version": "3.9.13"
  }
 },
 "nbformat": 4,
 "nbformat_minor": 5
}
